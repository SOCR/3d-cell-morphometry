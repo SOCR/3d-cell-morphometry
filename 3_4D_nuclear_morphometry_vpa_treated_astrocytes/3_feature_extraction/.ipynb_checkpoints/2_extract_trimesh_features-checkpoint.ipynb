{
 "cells": [
  {
   "cell_type": "code",
   "execution_count": 1,
   "metadata": {},
   "outputs": [
    {
     "name": "stdout",
     "output_type": "stream",
     "text": [
      "env: JOBLIB_TEMP_FOLDER=\"/tmp\"\n"
     ]
    }
   ],
   "source": [
    "import os\n",
    "import glob\n",
    "from tqdm import tqdm\n",
    "\n",
    "import numpy as np\n",
    "import pandas as pd\n",
    "\n",
    "import trimesh\n",
    "from trimesh.curvature import (\n",
    "    discrete_gaussian_curvature_measure,\n",
    "    discrete_mean_curvature_measure\n",
    ")"
   ]
  },
  {
   "cell_type": "code",
   "execution_count": 2,
   "metadata": {},
   "outputs": [],
   "source": [
    "def ellipsoid_sphericity(v, sa):\n",
    "    return np.power(np.pi, 1/3) * np.power(6*v, 2/3) / sa\n",
    "\n",
    "def get_features_from_mesh(mesh):\n",
    "    \n",
    "    axis_len = sorted(mesh.extents)\n",
    "    convex_hull_axis_len = sorted(mesh.convex_hull.extents)\n",
    "    intertia_pcs = mesh.principal_inertia_components\n",
    "    volume = mesh.volume\n",
    "    surface_area = mesh.area\n",
    "    \n",
    "    try:\n",
    "        bounding_volume = mesh.bounding_cylinder.volume\n",
    "    except:\n",
    "        bounding_volume = 0\n",
    "    \n",
    "    return {\n",
    "        'Area T': surface_area,\n",
    "        'Volume T': volume,\n",
    "        'Min Axis Length T': axis_len[0],\n",
    "        'Med Axis Length T': axis_len[1],\n",
    "        'Max Axis Length T': axis_len[2],\n",
    "        'Scale T': mesh.scale,\n",
    "        'Inertia PC1 T': intertia_pcs[0],\n",
    "        'Inertia PC2 T': intertia_pcs[1],\n",
    "        'Inertia PC3 T': intertia_pcs[2],\n",
    "        'Bounding Box Volume T': mesh.bounding_box.volume,\n",
    "        'Oriented Bounding Box Volume T': mesh.bounding_box_oriented.volume,\n",
    "        'Bounding Cylinder Volume T': bounding_volume,\n",
    "        'Bounding Sphere Volume T': mesh.bounding_sphere.volume,\n",
    "        'Convex Hull Volume T': mesh.convex_hull.volume,\n",
    "        'Convex Hull Area T': mesh.convex_hull.area,\n",
    "        'Sphericity T': ellipsoid_sphericity(volume, surface_area),\n",
    "        'Extent T': mesh.volume / mesh.bounding_box.volume,\n",
    "        'Solidity T': mesh.volume / mesh.convex_hull.volume,\n",
    "        'Avg Gaussian Curvature T': discrete_gaussian_curvature_measure(mesh, mesh.vertices, 1).mean(),\n",
    "        'Avg Mean Curvature T': discrete_mean_curvature_measure(mesh, mesh.vertices, 1).mean()\n",
    "    }\n",
    "\n",
    "def extract_mesh_features_3d(mesh_path):\n",
    "    mesh = trimesh.load(mesh_path)\n",
    "    mesh_feats = get_features_from_mesh(mesh)\n",
    "    return mesh_feats"
   ]
  },
  {
   "cell_type": "markdown",
   "metadata": {},
   "source": [
    "### compute mesh features"
   ]
  },
  {
   "cell_type": "code",
   "execution_count": 21,
   "metadata": {},
   "outputs": [
    {
     "name": "stderr",
     "output_type": "stream",
     "text": [
      "  0%|          | 0/103 [00:00<?, ?it/s]"
     ]
    },
    {
     "name": "stdout",
     "output_type": "stream",
     "text": [
      "\n",
      " Folder: ../../storage/data/astr_vpa/tiled_morphometry_decon_2021/6_psi\n",
      "Files: 103\n"
     ]
    },
    {
     "name": "stderr",
     "output_type": "stream",
     "text": [
      "100%|██████████| 103/103 [09:30<00:00,  5.54s/it]\n"
     ]
    }
   ],
   "source": [
    "folders = glob.glob('../../storage/data/astr_vpa/tiled_morphometry_decon_2021/*')\n",
    "folders = [folder for folder in folders if os.path.isdir(folder)]\n",
    "\n",
    "# make sure output destination is writable\n",
    "for folder in folders:\n",
    "    print('\\n Folder:', folder)\n",
    "    files = [f for f in glob.glob(folder + '/3d_mesh/*.off')]\n",
    "    filenames = [os.path.split(f)[-1][:3] for f in files]\n",
    "    print('Files:', len(files))\n",
    "\n",
    "    features = [extract_mesh_features_3d(f) for f in tqdm(files)]\n",
    "\n",
    "    df = pd.DataFrame(features, index=filenames)\n",
    "    df.index.name = 'File'\n",
    "    df.to_csv(os.path.join('../../storage/data/astr_vpa/tiled_morphometry_decon_2021',\n",
    "                           os.path.split(folder)[-1] + '_off.csv'))"
   ]
  }
 ],
 "metadata": {
  "kernelspec": {
   "display_name": "Python 3 (ipykernel)",
   "language": "python",
   "name": "python3"
  },
  "language_info": {
   "codemirror_mode": {
    "name": "ipython",
    "version": 3
   },
   "file_extension": ".py",
   "mimetype": "text/x-python",
   "name": "python",
   "nbconvert_exporter": "python",
   "pygments_lexer": "ipython3",
   "version": "3.8.13"
  }
 },
 "nbformat": 4,
 "nbformat_minor": 4
}
