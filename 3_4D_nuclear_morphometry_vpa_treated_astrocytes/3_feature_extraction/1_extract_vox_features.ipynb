{
 "cells": [
  {
   "cell_type": "code",
   "execution_count": 18,
   "metadata": {},
   "outputs": [
    {
     "name": "stdout",
     "output_type": "stream",
     "text": [
      "env: JOBLIB_TEMP_FOLDER=\"/tmp\"\n"
     ]
    }
   ],
   "source": [
    "import glob\n",
    "import os\n",
    "\n",
    "import numpy as np\n",
    "import pandas as pd\n",
    "from skimage import io\n",
    "from skimage.measure import label, regionprops\n",
    "from tqdm import tqdm"
   ]
  },
  {
   "cell_type": "markdown",
   "metadata": {},
   "source": [
    "## Extract voxel-based features from nuclear masks\n",
    "\n",
    "Citation:\n",
    "Kalinin, A.A., Hou, X., Ade, A.S., Fon, G.V., Meixner, W., Higgins, G.A., Sexton, J.Z., Wan, X., Dinov, I.D., O’Meara, M.J. and Athey, B.D. 2021. Valproic acid-induced changes of 4D nuclear morphology in astrocyte cells. _Molecular Biology of the Cell_, 32(18), pp.1624-1633. [doi:10.1091/mbc.E20-08-0502](https://doi.org/10.1091/mbc.E20-08-0502)"
   ]
  },
  {
   "cell_type": "code",
   "execution_count": 16,
   "metadata": {},
   "outputs": [],
   "source": [
    "def get_feature_names():\n",
    "    return [\n",
    "        \"area\",\n",
    "        \"bbox_area\",\n",
    "        \"convex_area\",\n",
    "        \"equivalent_diameter\",\n",
    "        \"euler_number\",\n",
    "        \"extent\",\n",
    "        \"inertia_tensor_eigvals\",\n",
    "        \"major_axis_length\",\n",
    "        \"minor_axis_length\",\n",
    "        \"perimeter\",\n",
    "        \"solidity\",\n",
    "    ]\n",
    "\n",
    "\n",
    "def extract_masked_image_features(\n",
    "    fname: str, dim: str = \"3d\", verbose: bool = False\n",
    ") -> list:\n",
    "    verboseprint = print if verbose else lambda *a, **k: None\n",
    "    feature_names = get_feature_names()\n",
    "    img = io.imread(fname)\n",
    "    verboseprint(f\"Img dtype: {img.dtype}, shape: {img.shape}\")\n",
    "\n",
    "    label_image, n_components = label(img, return_num=True)\n",
    "    verboseprint(f\"Num of components: {n_components}\")\n",
    "\n",
    "    feats = []\n",
    "    for i in range(n_components):\n",
    "        mask = (label_image == i + 1).astype(np.uint8)\n",
    "        verboseprint(f\"Mask dtype: {mask.dtype}, new shape: {mask.shape}\")\n",
    "\n",
    "        if dim.lower() == \"2d\":\n",
    "            mask = np.max(mask, 0)\n",
    "            verboseprint(f\"Mask dtype: {mask.dtype}, new shape: {mask.shape}\")\n",
    "\n",
    "        props = regionprops(mask)\n",
    "        del mask\n",
    "        mask_feats = []\n",
    "        if len(props) > 1:\n",
    "            verboseprint(\"\\nComponents:\", len(props))\n",
    "        else:\n",
    "            for feat in feature_names:\n",
    "                try:\n",
    "                    mask_feats.append(props[0][feat])\n",
    "                    verboseprint(f\"{dim} feature: {feat}, values: {props[0][feat]}\")\n",
    "                except Exception:\n",
    "                    verboseprint(f\"No feature: {feat}\")\n",
    "                    pass\n",
    "        feats.append(\n",
    "            [y for x in mask_feats for y in (x if hasattr(x, \"__iter__\") else (x,))]\n",
    "        )\n",
    "\n",
    "    return np.asarray(feats)"
   ]
  },
  {
   "cell_type": "markdown",
   "metadata": {},
   "source": [
    "### compute voxel features"
   ]
  },
  {
   "cell_type": "code",
   "execution_count": 8,
   "metadata": {},
   "outputs": [],
   "source": [
    "def build_voxel_features_directory(\n",
    "    in_path: str, out_path: str, suffix=\"\", dim: str = \"3d\"\n",
    "):\n",
    "    dim = dim.lower()\n",
    "    print(\"\\n Folder:\", in_path)\n",
    "    files = sorted([f for f in glob.glob(in_path + \"/\" + suffix + \"*.tif\")])\n",
    "    filenames = [os.path.split(f)[-1][:-4] for f in files]\n",
    "    print(\"Files:\", len(files))\n",
    "\n",
    "    features = []\n",
    "    mask_names = []\n",
    "    for i, fname in enumerate(tqdm(files)):\n",
    "        img_features = extract_masked_image_features(fname, dim=dim)\n",
    "        features.extend(img_features)\n",
    "        mask_names.extend(\n",
    "            [\n",
    "                filenames[i] + f\"_mask_{j:03d}\"\n",
    "                for j, mask_features in enumerate(img_features)\n",
    "            ]\n",
    "        )\n",
    "\n",
    "    feature_names = get_feature_names()\n",
    "    if dim == \"2d\":\n",
    "        df_columns = (\n",
    "            feature_names[:6]\n",
    "            + [\"inertia_tensor_eigval_1\", \"inertia_tensor_eigval_2\"]\n",
    "            + feature_names[7:]\n",
    "        )\n",
    "    elif dim == \"3d\":\n",
    "        df_columns = (\n",
    "            feature_names[:6]\n",
    "            + [\n",
    "                \"inertia_tensor_eigval_1\",\n",
    "                \"inertia_tensor_eigval_2\",\n",
    "                \"inertia_tensor_eigval_3\",\n",
    "            ]\n",
    "            + feature_names[7:-2]\n",
    "            + [feature_names[-1]]\n",
    "        )\n",
    "\n",
    "    df = pd.DataFrame(features, index=mask_names, columns=df_columns)\n",
    "    df.index.name = \"File\"\n",
    "    out_file = os.path.split(in_path)[-1]\n",
    "    df.to_csv(f\"{os.path.join(out_path, out_file)}{suffix}_{dim}.csv\")"
   ]
  },
  {
   "cell_type": "code",
   "execution_count": 84,
   "metadata": {},
   "outputs": [
    {
     "name": "stderr",
     "output_type": "stream",
     "text": [
      "  0%|          | 0/79 [00:00<?, ?it/s]"
     ]
    },
    {
     "name": "stdout",
     "output_type": "stream",
     "text": [
      "\n",
      " Folder: ../../storage/data/astr_vpa/astr_vpa_postsegm\n",
      "Files: 79\n"
     ]
    },
    {
     "name": "stderr",
     "output_type": "stream",
     "text": [
      "100%|██████████| 79/79 [01:11<00:00,  1.10it/s]\n"
     ]
    }
   ],
   "source": [
    "build_voxel_features_directory(\n",
    "    \"../../storage/data/astr_vpa/astr_vpa_postsegm\", \"decon/morphometry/\", dim=\"2d\"\n",
    ")"
   ]
  },
  {
   "cell_type": "code",
   "execution_count": null,
   "metadata": {},
   "outputs": [
    {
     "name": "stderr",
     "output_type": "stream",
     "text": [
      "  0%|          | 0/79 [00:00<?, ?it/s]"
     ]
    },
    {
     "name": "stdout",
     "output_type": "stream",
     "text": [
      "\n",
      " Folder: ../../storage/data/astr_vpa/astr_vpa_postsegm\n",
      "Files: 79\n"
     ]
    },
    {
     "name": "stderr",
     "output_type": "stream",
     "text": [
      " 77%|███████▋  | 61/79 [46:14<10:13, 34.11s/it]  "
     ]
    }
   ],
   "source": [
    "build_voxel_features_directory(\n",
    "    \"../../storage/data/astr_vpa/astr_vpa_postsegm\", \"decon/morphometry/\", dim=\"3d\"\n",
    ")"
   ]
  },
  {
   "cell_type": "code",
   "execution_count": 9,
   "metadata": {},
   "outputs": [
    {
     "name": "stderr",
     "output_type": "stream",
     "text": [
      "  0%|          | 0/66 [00:00<?, ?it/s]"
     ]
    },
    {
     "name": "stdout",
     "output_type": "stream",
     "text": [
      "\n",
      " Folder: ../../storage/data/astr_vpa/astr_vpa_postsegm\n",
      "Files: 66\n"
     ]
    },
    {
     "name": "stderr",
     "output_type": "stream",
     "text": [
      "100%|██████████| 66/66 [49:45<00:00, 45.23s/it]\n"
     ]
    }
   ],
   "source": [
    "build_voxel_features_directory(\n",
    "    \"../../storage/data/astr_vpa/astr_vpa_postsegm\",\n",
    "    \"decon/morphometry/\",\n",
    "    suffix=\"12\",\n",
    "    dim=\"3d\",\n",
    ")"
   ]
  },
  {
   "cell_type": "code",
   "execution_count": 10,
   "metadata": {},
   "outputs": [
    {
     "name": "stderr",
     "output_type": "stream",
     "text": [
      "  0%|          | 0/36 [00:00<?, ?it/s]"
     ]
    },
    {
     "name": "stdout",
     "output_type": "stream",
     "text": [
      "\n",
      " Folder: ../../storage/data/astr_vpa/astr_vpa_postsegm\n",
      "Files: 36\n"
     ]
    },
    {
     "name": "stderr",
     "output_type": "stream",
     "text": [
      "100%|██████████| 36/36 [25:08<00:00, 41.89s/it]\n"
     ]
    }
   ],
   "source": [
    "build_voxel_features_directory(\n",
    "    \"../../storage/data/astr_vpa/astr_vpa_postsegm\",\n",
    "    \"decon/morphometry/\",\n",
    "    suffix=\"Psi\",\n",
    "    dim=\"3d\",\n",
    ")"
   ]
  },
  {
   "cell_type": "code",
   "execution_count": 11,
   "metadata": {},
   "outputs": [
    {
     "name": "stderr",
     "output_type": "stream",
     "text": [
      "  0%|          | 0/36 [00:00<?, ?it/s]"
     ]
    },
    {
     "name": "stdout",
     "output_type": "stream",
     "text": [
      "\n",
      " Folder: ../../storage/data/astr_vpa/astr_vpa_postsegm\n",
      "Files: 36\n"
     ]
    },
    {
     "name": "stderr",
     "output_type": "stream",
     "text": [
      "100%|██████████| 36/36 [37:32<00:00, 62.57s/it]\n"
     ]
    }
   ],
   "source": [
    "build_voxel_features_directory(\n",
    "    \"../../storage/data/astr_vpa/astr_vpa_postsegm\",\n",
    "    \"decon/morphometry/\",\n",
    "    suffix=\"Rho\",\n",
    "    dim=\"3d\",\n",
    ")"
   ]
  }
 ],
 "metadata": {
  "kernelspec": {
   "display_name": "Python 3 (ipykernel)",
   "language": "python",
   "name": "python3"
  },
  "language_info": {
   "codemirror_mode": {
    "name": "ipython",
    "version": 3
   },
   "file_extension": ".py",
   "mimetype": "text/x-python",
   "name": "python",
   "nbconvert_exporter": "python",
   "pygments_lexer": "ipython3",
   "version": "3.8.13"
  }
 },
 "nbformat": 4,
 "nbformat_minor": 4
}
