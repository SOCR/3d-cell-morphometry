{
 "cells": [
  {
   "cell_type": "code",
   "execution_count": 1,
   "metadata": {},
   "outputs": [
    {
     "name": "stdout",
     "output_type": "stream",
     "text": [
      "env: JOBLIB_TEMP_FOLDER=\"/tmp\"\n"
     ]
    }
   ],
   "source": [
    "import glob\n",
    "import os\n",
    "\n",
    "import pandas as pd\n",
    "import trimesh\n",
    "from extract_features import extract_mesh_features\n",
    "from tqdm import tqdm"
   ]
  },
  {
   "cell_type": "markdown",
   "metadata": {},
   "source": [
    "## Extract surface features from meshes\n",
    "\n",
    "Citation:\n",
    "Kalinin, A.A., Hou, X., Ade, A.S., Fon, G.V., Meixner, W., Higgins, G.A., Sexton, J.Z., Wan, X., Dinov, I.D., O’Meara, M.J. and Athey, B.D. 2021. Valproic acid-induced changes of 4D nuclear morphology in astrocyte cells. _Molecular Biology of the Cell_, 32(18), pp.1624-1633. [doi:10.1091/mbc.E20-08-0502](https://doi.org/10.1091/mbc.E20-08-0502)"
   ]
  },
  {
   "cell_type": "code",
   "execution_count": 2,
   "metadata": {},
   "outputs": [],
   "source": [
    "def extract_mesh_features_3d(mesh_path):\n",
    "    mesh = trimesh.load(mesh_path)\n",
    "    mesh_feats = extract_mesh_features(mesh)\n",
    "    return mesh_feats"
   ]
  },
  {
   "cell_type": "markdown",
   "metadata": {},
   "source": [
    "### compute mesh features"
   ]
  },
  {
   "cell_type": "code",
   "execution_count": 21,
   "metadata": {},
   "outputs": [
    {
     "name": "stderr",
     "output_type": "stream",
     "text": [
      "  0%|          | 0/103 [00:00<?, ?it/s]"
     ]
    },
    {
     "name": "stdout",
     "output_type": "stream",
     "text": [
      "\n",
      " Folder: ../../storage/data/astr_vpa/tiled_morphometry_decon_2021/6_psi\n",
      "Files: 103\n"
     ]
    },
    {
     "name": "stderr",
     "output_type": "stream",
     "text": [
      "100%|██████████| 103/103 [09:30<00:00,  5.54s/it]\n"
     ]
    }
   ],
   "source": [
    "folders = glob.glob(\"../../storage/data/astr_vpa/tiled_morphometry_decon_2021/*\")\n",
    "folders = [folder for folder in folders if os.path.isdir(folder)]\n",
    "\n",
    "# make sure output destination is writable\n",
    "for folder in folders:\n",
    "    print(\"\\n Folder:\", folder)\n",
    "    files = [f for f in glob.glob(folder + \"/3d_mesh/*.off\")]\n",
    "    filenames = [os.path.split(f)[-1][:3] for f in files]\n",
    "    print(\"Files:\", len(files))\n",
    "\n",
    "    features = [extract_mesh_features_3d(f) for f in tqdm(files)]\n",
    "\n",
    "    df = pd.DataFrame(features, index=filenames)\n",
    "    df.index.name = \"File\"\n",
    "    df.to_csv(\n",
    "        os.path.join(\n",
    "            \"../../storage/data/astr_vpa/tiled_morphometry_decon_2021\",\n",
    "            os.path.split(folder)[-1] + \"_off.csv\",\n",
    "        )\n",
    "    )"
   ]
  }
 ],
 "metadata": {
  "kernelspec": {
   "display_name": "Python 3 (ipykernel)",
   "language": "python",
   "name": "python3"
  },
  "language_info": {
   "codemirror_mode": {
    "name": "ipython",
    "version": 3
   },
   "file_extension": ".py",
   "mimetype": "text/x-python",
   "name": "python",
   "nbconvert_exporter": "python",
   "pygments_lexer": "ipython3",
   "version": "3.8.13"
  }
 },
 "nbformat": 4,
 "nbformat_minor": 4
}
